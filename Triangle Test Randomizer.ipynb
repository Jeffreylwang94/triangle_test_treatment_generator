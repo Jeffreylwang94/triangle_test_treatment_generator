{
 "cells": [
  {
   "cell_type": "code",
   "execution_count": 126,
   "id": "d259ae5b-a06a-4c2d-aea4-b33b3a981a43",
   "metadata": {},
   "outputs": [
    {
     "name": "stdin",
     "output_type": "stream",
     "text": [
      "Number of tasters 18\n"
     ]
    },
    {
     "data": {
      "text/plain": [
       "[['B', 'B', 'A'],\n",
       " ['A', 'B', 'B'],\n",
       " ['B', 'A', 'A'],\n",
       " ['A', 'B', 'A'],\n",
       " ['B', 'B', 'A'],\n",
       " ['A', 'B', 'A'],\n",
       " ['A', 'B', 'B'],\n",
       " ['A', 'B', 'A'],\n",
       " ['B', 'A', 'A'],\n",
       " ['B', 'A', 'B'],\n",
       " ['A', 'B', 'B'],\n",
       " ['A', 'B', 'A'],\n",
       " ['B', 'A', 'A'],\n",
       " ['B', 'B', 'A'],\n",
       " ['B', 'A', 'B'],\n",
       " ['A', 'B', 'A'],\n",
       " ['A', 'A', 'B'],\n",
       " ['A', 'B', 'B']]"
      ]
     },
     "execution_count": 126,
     "metadata": {},
     "output_type": "execute_result"
    }
   ],
   "source": [
    "from random import randrange, sample\n",
    "import math\n",
    "\n",
    "\n",
    "try:\n",
    "    num_testers = int(input('Number of tasters'))\n",
    "except:\n",
    "    print('This is a string')\n",
    "    \n",
    "    \n",
    "        ## Figure out how to randomly assign taster to combo, disregarding distribution\n",
    "def triangle_test(num_testers,even_split_flag = 1):\n",
    "                  \n",
    "    test_combinations = [['A','A','B'],\n",
    "                         ['A','B','A'],\n",
    "                         ['A','B','B'],\n",
    "                         ['B','B','A'],\n",
    "                         ['B','A','B'],\n",
    "                         ['B','A','A']]\n",
    "\n",
    "    if even_split_flag == 1:\n",
    "        taster_list = [0]*len(test_combinations)\n",
    "        taster_assignments = [0]*num_testers\n",
    "\n",
    "        for i in range(0,num_testers):\n",
    "            taster_assignments[i] = test_combinations[randrange(0,6)]\n",
    "\n",
    "    ## Figure out how to evenly assign taster to combo, disregarding distribution\n",
    "    else:\n",
    "        for i in range(0,num_testers):\n",
    "            if len(output) == 0:\n",
    "                output = sample(test_combinations,len(test_combinations))\n",
    "            taster_assignments[i] = output.pop()\n",
    "\n",
    "    return taster_assignments\n",
    "\n",
    "triangle_test(num_testers)\n"
   ]
  },
  {
   "cell_type": "code",
   "execution_count": null,
   "id": "e019c779-494e-4061-87b4-0ebd4573dfd3",
   "metadata": {},
   "outputs": [],
   "source": []
  },
  {
   "cell_type": "code",
   "execution_count": null,
   "id": "971c3db7-c34f-4aab-9250-5f80b45cae83",
   "metadata": {},
   "outputs": [],
   "source": []
  },
  {
   "cell_type": "code",
   "execution_count": null,
   "id": "31ec7114-4093-4abb-b4b4-caf5015edd03",
   "metadata": {},
   "outputs": [],
   "source": []
  },
  {
   "cell_type": "code",
   "execution_count": null,
   "id": "905e3c0e-5461-456d-a50b-fd53c0fe11c1",
   "metadata": {},
   "outputs": [],
   "source": []
  },
  {
   "cell_type": "code",
   "execution_count": null,
   "id": "bf8ca5d8-a365-4295-a7b2-be57327b66a9",
   "metadata": {},
   "outputs": [],
   "source": []
  },
  {
   "cell_type": "code",
   "execution_count": 114,
   "id": "46b84e6a-41f6-40ea-85ac-45624e249887",
   "metadata": {},
   "outputs": [],
   "source": []
  },
  {
   "cell_type": "code",
   "execution_count": 115,
   "id": "f591cec7-1480-496e-ac59-9a489aa2ce90",
   "metadata": {},
   "outputs": [
    {
     "data": {
      "text/plain": [
       "[['A', 'A', 'B'],\n",
       " ['A', 'B', 'B'],\n",
       " ['B', 'B', 'A'],\n",
       " ['B', 'A', 'A'],\n",
       " ['B', 'A', 'B'],\n",
       " ['A', 'B', 'A'],\n",
       " ['A', 'B', 'A'],\n",
       " ['A', 'B', 'B'],\n",
       " ['A', 'A', 'B'],\n",
       " ['B', 'A', 'A'],\n",
       " ['B', 'B', 'A'],\n",
       " ['B', 'A', 'B']]"
      ]
     },
     "execution_count": 115,
     "metadata": {},
     "output_type": "execute_result"
    }
   ],
   "source": [
    "taster_assignments"
   ]
  },
  {
   "cell_type": "code",
   "execution_count": null,
   "id": "25f071e0-2020-4622-ad4f-4b8f79dd14c2",
   "metadata": {},
   "outputs": [],
   "source": []
  },
  {
   "cell_type": "code",
   "execution_count": null,
   "id": "9b676e01-ef75-48e1-8f39-2ffe909f4f85",
   "metadata": {},
   "outputs": [],
   "source": []
  },
  {
   "cell_type": "code",
   "execution_count": null,
   "id": "8405f74c-b39b-4137-80b8-361d899a80ea",
   "metadata": {},
   "outputs": [],
   "source": []
  },
  {
   "cell_type": "code",
   "execution_count": 79,
   "id": "ae4a4682-9b96-492a-bedf-b482f1720cf1",
   "metadata": {},
   "outputs": [
    {
     "data": {
      "text/plain": [
       "[0, 0, 0, 0, 0, 0, 0, 0, 0, 0, 0, 0]"
      ]
     },
     "execution_count": 79,
     "metadata": {},
     "output_type": "execute_result"
    }
   ],
   "source": []
  },
  {
   "cell_type": "code",
   "execution_count": null,
   "id": "d9cf7ac6-5551-41e9-8f05-d93d67277a39",
   "metadata": {},
   "outputs": [],
   "source": []
  },
  {
   "cell_type": "code",
   "execution_count": null,
   "id": "59c08245-ca04-4af2-a881-00fcb2582085",
   "metadata": {},
   "outputs": [],
   "source": []
  },
  {
   "cell_type": "code",
   "execution_count": 74,
   "id": "aa2ce9bb-a3e0-402f-b61f-5c17af606b6e",
   "metadata": {},
   "outputs": [
    {
     "data": {
      "text/plain": [
       "['A', 'B', 'A']"
      ]
     },
     "execution_count": 74,
     "metadata": {},
     "output_type": "execute_result"
    }
   ],
   "source": [
    "taster_assignments"
   ]
  },
  {
   "cell_type": "code",
   "execution_count": 67,
   "id": "3429f7b9-130a-4faf-be6f-73a72c597090",
   "metadata": {},
   "outputs": [],
   "source": [
    "\n",
    "for i in range(0,1000000):\n",
    "    distro[round(randrange(0,6))]+=1\n"
   ]
  },
  {
   "cell_type": "code",
   "execution_count": 69,
   "id": "e6a75508-f7c6-4d0e-be6d-18991136f48c",
   "metadata": {},
   "outputs": [
    {
     "data": {
      "text/plain": [
       "6"
      ]
     },
     "execution_count": 69,
     "metadata": {},
     "output_type": "execute_result"
    }
   ],
   "source": [
    "len(distro\n",
    "   )"
   ]
  },
  {
   "cell_type": "code",
   "execution_count": 44,
   "id": "5fdefed5-b27c-44b9-85b5-439bdb5641c9",
   "metadata": {},
   "outputs": [
    {
     "data": {
      "text/plain": [
       "[0, 0, 0, 0, 0, 0]"
      ]
     },
     "execution_count": 44,
     "metadata": {},
     "output_type": "execute_result"
    }
   ],
   "source": []
  },
  {
   "cell_type": "code",
   "execution_count": null,
   "id": "02402a12-55d8-40a5-a27e-edff3d208756",
   "metadata": {},
   "outputs": [],
   "source": []
  },
  {
   "cell_type": "code",
   "execution_count": null,
   "id": "3d75c1a4-13e5-4443-83a0-d2712f94fad1",
   "metadata": {},
   "outputs": [],
   "source": []
  }
 ],
 "metadata": {
  "kernelspec": {
   "display_name": "Python 3 (ipykernel)",
   "language": "python",
   "name": "python3"
  },
  "language_info": {
   "codemirror_mode": {
    "name": "ipython",
    "version": 3
   },
   "file_extension": ".py",
   "mimetype": "text/x-python",
   "name": "python",
   "nbconvert_exporter": "python",
   "pygments_lexer": "ipython3",
   "version": "3.9.7"
  }
 },
 "nbformat": 4,
 "nbformat_minor": 5
}
