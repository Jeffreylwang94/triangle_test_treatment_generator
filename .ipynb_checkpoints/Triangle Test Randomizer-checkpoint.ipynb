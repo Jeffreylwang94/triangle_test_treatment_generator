{
 "cells": [
  {
   "cell_type": "code",
   "execution_count": null,
   "id": "d259ae5b-a06a-4c2d-aea4-b33b3a981a43",
   "metadata": {},
   "outputs": [],
   "source": [
    "from random import randrange, sample\n",
    "import math\n",
    "\n",
    "\n",
    "try:\n",
    "    num_testers = int(input('Number of tasters'))\n",
    "except:\n",
    "    print('This is a string')\n",
    "    \n",
    "    \n",
    "        ## Figure out how to randomly assign taster to combo, disregarding distribution\n",
    "def triangle_test(num_testers,even_split_flag = 1):\n",
    "                  \n",
    "    test_combinations = [['A','A','B'],\n",
    "                         ['A','B','A'],\n",
    "                         ['A','B','B'],\n",
    "                         ['B','B','A'],\n",
    "                         ['B','A','B'],\n",
    "                         ['B','A','A']]\n",
    "\n",
    "    if even_split_flag == 1:\n",
    "        taster_list = [0]*len(test_combinations)\n",
    "        taster_assignments = [0]*num_testers\n",
    "\n",
    "        for i in range(0,num_testers):\n",
    "            taster_assignments[i] = test_combinations[randrange(0,6)]\n",
    "\n",
    "    ## Figure out how to evenly assign taster to combo, disregarding distribution\n",
    "    else:\n",
    "        for i in range(0,num_testers):\n",
    "            if len(output) == 0:\n",
    "                output = sample(test_combinations,len(test_combinations))\n",
    "            taster_assignments[i] = output.pop()\n",
    "\n",
    "    return taster_assignments\n",
    "\n",
    "triangle_test(num_testers)\n"
   ]
  }
 ],
 "metadata": {
  "kernelspec": {
   "display_name": "Python 3 (ipykernel)",
   "language": "python",
   "name": "python3"
  },
  "language_info": {
   "codemirror_mode": {
    "name": "ipython",
    "version": 3
   },
   "file_extension": ".py",
   "mimetype": "text/x-python",
   "name": "python",
   "nbconvert_exporter": "python",
   "pygments_lexer": "ipython3",
   "version": "3.9.7"
  }
 },
 "nbformat": 4,
 "nbformat_minor": 5
}
